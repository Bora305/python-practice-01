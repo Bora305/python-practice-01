{
 "cells": [
  {
   "cell_type": "markdown",
   "metadata": {},
   "source": [
    "# Quiz 3 클래스 (1)\n",
    "\n",
    "## 문제 1\n",
    "\n",
    "인기 게임 스타크래프트의 사령부(Command Center)를 클래스로 만들어보았다.\n",
    "\n",
    "아래 코드에서 `CommandCenter` 클래스의 `produce` 함수는 건설로봇(SCV)를 생성하는 함수이다.\n",
    "\n",
    "`produce` 함수를 미네랄이 모자라면 SCV를 생성하지 못하게 변경해보자."
   ]
  },
  {
   "cell_type": "code",
   "execution_count": 24,
   "metadata": {},
   "outputs": [
    {
     "name": "stdout",
     "output_type": "stream",
     "text": [
      "건설로봇이 생성되었습니다.\n",
      "남은 미네랄: 50\n"
     ]
    }
   ],
   "source": [
    "# 클래스: 사령부\n",
    "class CommandCenter:\n",
    "  # 멤버 함수: 유닛 생성\n",
    "  def produce(self, mineral):\n",
    "    print(\"건설로봇이 생성되었습니다.\")\n",
    "    return mineral - 50\n",
    "  \n",
    "# 위에서 작성한 클래스를 이용한 코드작성\n",
    "def main():\n",
    "  mineral = 100\n",
    "\n",
    "  # 사령부 생성\n",
    "  commandCenter = CommandCenter()\n",
    "\n",
    "  #미네랄 부족하면 생산 불가 + 출력\n",
    "  # *** 문제 제대로 안읽고 main 함수에 만들어 버린 나\n",
    "  if mineral < 50:\n",
    "    print(f\"미네랄이 부족합니다\")\n",
    "  else:\n",
    "    # 건설로봇 생산\n",
    "    mineral = commandCenter.produce(mineral)\n",
    "\n",
    "  # 남은 미네랄 출력\n",
    "  print(f\"남은 미네랄: {mineral}\")\n",
    "\n",
    "# 메인 함수 호출\n",
    "main()"
   ]
  },
  {
   "cell_type": "code",
   "execution_count": 28,
   "metadata": {},
   "outputs": [
    {
     "name": "stdout",
     "output_type": "stream",
     "text": [
      "미네랄이 부족합니다!!!\n",
      "남은 미네랄: 40\n"
     ]
    }
   ],
   "source": [
    "# 클래스: 사령부\n",
    "class CommandCenter:\n",
    "  # 멤버 함수: 유닛 생성\n",
    "  # produce 함수 수정\n",
    "  def produce(self, mineral):\n",
    "    if mineral < 50:\n",
    "        print(\"미네랄이 부족합니다!!!\")\n",
    "        return mineral\n",
    "    else:\n",
    "        print(\"건설로봇이 생성되었습니다.\")\n",
    "        return mineral - 50\n",
    "  \n",
    "# 위에서 작성한 클래스를 이용한 코드작성\n",
    "def main():\n",
    "  mineral = 40\n",
    "\n",
    "  # 사령부 생성\n",
    "  commandCenter = CommandCenter()\n",
    "  # 건설로봇 생산\n",
    "  mineral = commandCenter.produce(mineral)\n",
    "\n",
    "  # 남은 미네랄 출력\n",
    "  print(f\"남은 미네랄: {mineral}\")\n",
    "\n",
    "# 메인 함수 호출\n",
    "main()"
   ]
  },
  {
   "cell_type": "markdown",
   "metadata": {},
   "source": [
    "## 문제 2\n",
    "\n",
    "위 코드에서 자원을 보다 효율적으로 관리하기 위해 `Player` 라는 개념을 도입하였다.\n",
    "\n",
    "자원량은 `Player` 에서 관리되며 `CommandCenter` 도 어떤 플레이어에 속하였는지 정보를 가지고 있다.\n",
    "\n",
    "`Player`에 가스 정보를 저장할 수 있는 멤버 변수를 추가하고 `__str__` 함수에 가스 정보도 같이 포함 될 수 있게 변경해보자."
   ]
  },
  {
   "cell_type": "code",
   "execution_count": 44,
   "metadata": {},
   "outputs": [
    {
     "name": "stdout",
     "output_type": "stream",
     "text": [
      "건설로봇이 2개 생성되었습니다.\n",
      "마린이 생산되었습니다.\n",
      "파이어벳이 생산되었습니다.\n",
      "BoxeR님의 보유 미네랄 양은 800, 보유 가스 양은 475 입니다.\n"
     ]
    }
   ],
   "source": [
    "# 클래스: 사령부\n",
    "class CommandCenter:\n",
    "  # 생성자\n",
    "  def __init__(self, player):\n",
    "    self.player = player\n",
    "\n",
    "  # 멤버 함수: 유닛 생성\n",
    "  # scv 생산\n",
    "  def produce_scv(self,num):\n",
    "    self.player.mineral -= (50*num)\n",
    "    print(f\"건설로봇이 {num}개 생성되었습니다.\")\n",
    "    \n",
    "  def produce_marine(self):\n",
    "    self.player.mineral -= 50\n",
    "    print(\"마린이 생산되었습니다.\")\n",
    "    \n",
    "  def produce_firebat(self):\n",
    "    self.player.mineral -= 50\n",
    "    self.player.gas -= 25\n",
    "    print(\"파이어벳이 생산되었습니다.\")\n",
    "\n",
    "# 클래스: 플레이어\n",
    "class Player:\n",
    "  # 생성자\n",
    "  def __init__(self, name):\n",
    "    self.name = name\n",
    "    self.mineral = 1000\n",
    "    self.gas = 500\n",
    "\n",
    "  # 멤버 함수: 생성자와 같이 예약된 멤버 함수이며, 인스턴스를 문자열로 표현할 때 원하는 형태로 표현할 수 있다.\n",
    "  # 전에 실습했던 printInfo 와 유사한 역할을 한다. (차이점은 print 하지 않고 문자로 반환한다는 점)\n",
    "  def __str__(self):\n",
    "    return f\"{self.name}님의 보유 미네랄 양은 {self.mineral}, 보유 가스 양은 {self.gas} 입니다.\"\n",
    "\n",
    "\n",
    "\n",
    "# 위에서 작성한 클래스를 이용한 코드작성\n",
    "def main():\n",
    "  # 초기 플레이어 설정\n",
    "  # 플레이어와 시작 건물 / 유닛을 생성한다.\n",
    "  player = Player('BoxeR')\n",
    "  commandCenter = CommandCenter(player)\n",
    "\n",
    "  # SCV 생산\n",
    "  commandCenter.produce_scv(2)\n",
    "  # 마린 생산\n",
    "  commandCenter.produce_marine()\n",
    "  # 파이어벳 생산\n",
    "  commandCenter.produce_firebat()\n",
    "\n",
    "  # 플레이어 정보 출력\n",
    "  print(player)\n",
    "\n",
    "# 메인 함수 호출\n",
    "main()"
   ]
  },
  {
   "cell_type": "markdown",
   "metadata": {},
   "source": [
    "## 문제 3\n",
    "\n",
    "2번 문제의 코드에서 건설로봇(SCV)을 클래스로 만들어 추가하였다.\n",
    "\n",
    "자원량은 `Player` 에서 관리되며 `CommandCenter` 도 어떤 플레이어에 속하였는지 정보를 가지고 있다.\n",
    "\n",
    "`Player`에 가스 정보를 저장할 수 있는 멤버 변수를 추가하고 `__str__` 함수에 가스 정보도 같이 포함 될 수 있게 변경해보자."
   ]
  },
  {
   "cell_type": "code",
   "execution_count": 59,
   "metadata": {},
   "outputs": [
    {
     "name": "stdout",
     "output_type": "stream",
     "text": [
      "건설로봇이 생성되었습니다.\n",
      "BoxeR님의 보유 미네랄 양은 40, 가스 양은 0 입니다.\n"
     ]
    }
   ],
   "source": [
    "class SCV:\n",
    "  # 생성자\n",
    "  def __init__(self, player):\n",
    "    self.player = player\n",
    "\n",
    "  # 멤버 함수: 미네랄 채취\n",
    "  def harvest(self):\n",
    "    self.player.mineral += 8\n",
    "\n",
    "# 클래스: 사령부\n",
    "class CommandCenter:\n",
    "  # 생성자\n",
    "  def __init__(self, player):\n",
    "    self.player = player\n",
    "\n",
    "  # 멤버 함수: 유닛 생성\n",
    "  def produce(self):\n",
    "    self.player.mineral -= 50\n",
    "    print(\"건설로봇이 생성되었습니다.\")\n",
    "    return SCV(self.player)\n",
    "\n",
    "# 클래스: 플레이어\n",
    "class Player:\n",
    "  # 생성자\n",
    "  def __init__(self, name):\n",
    "    self.name = name\n",
    "    self.mineral = 50\n",
    "    self.gas = 0\n",
    "\n",
    "  # 멤버 함수: 생성자와 같이 예약된 멤버 함수이며, 인스턴스를 문자열로 표현할 때 원하는 형태로 표현할 수 있다.\n",
    "  # 전에 실습했던 printInfo 와 유사한 역할을 한다. (차이점은 print 하지 않고 문자로 반환한다는 점)\n",
    "  def __str__(self):\n",
    "    return f\"{self.name}님의 보유 미네랄 양은 {self.mineral}, 가스 양은 {self.gas} 입니다.\"\n",
    "\n",
    "\n",
    "# 위에서 작성한 클래스를 이용한 코드작성\n",
    "def main():\n",
    "  # 초기 플레이어 설정\n",
    "  # 플레이어와 시작 건물 / 유닛을 생성한다.\n",
    "  player = Player('BoxeR')\n",
    "  commandCenter = CommandCenter(player)\n",
    "  scvList = [\n",
    "    SCV(player),\n",
    "    SCV(player),\n",
    "    SCV(player),\n",
    "    SCV(player),\n",
    "  ]\n",
    "\n",
    "  # 건설로봇 생산\n",
    "  newScv = commandCenter.produce()\n",
    "  scvList.append(newScv)\n",
    "\n",
    "  # 미네랄 채취\n",
    "  for scv in scvList:\n",
    "    scv.harvest()\n",
    "\n",
    "  # 플레이어 정보 출력\n",
    "  print(player)\n",
    "\n",
    "# 메인 함수 호출\n",
    "main()"
   ]
  },
  {
   "cell_type": "markdown",
   "metadata": {},
   "source": [
    "## 문제 4 (선택)\n",
    "\n",
    "3번 문제의 코드에 자유롭게 유닛 / 건물 각각 1종씩 추가해 보자"
   ]
  },
  {
   "cell_type": "code",
   "execution_count": 87,
   "metadata": {},
   "outputs": [
    {
     "name": "stdout",
     "output_type": "stream",
     "text": [
      "건설로봇이 생성되었습니다.\n",
      "파이어벳이 생성되었습니다.\n",
      "BoxeR님의 보유 미네랄 양은 940, 가스 양은 475 입니다.\n"
     ]
    }
   ],
   "source": [
    "# if문으로 말고 class나 함수 사용해서 자원 부족하면 동작 안하게 만들 순 없는건가?\n",
    "# 수량입력 받아서 제어하는거는 num 변수 추가해주면 되는건가?\n",
    "\n",
    "class SCV:\n",
    "  # 생성자\n",
    "  def __init__(self, player):\n",
    "    self.player = player\n",
    "\n",
    "  # 멤버 함수: 미네랄 채취\n",
    "  def harvest(self):\n",
    "    self.player.mineral += 8\n",
    "\n",
    "# 클래스: 사령부\n",
    "class CommandCenter:\n",
    "  # 생성자\n",
    "  def __init__(self, player):\n",
    "    self.player = player\n",
    "\n",
    "  # 멤버 함수: 유닛 생성\n",
    "  def produce(self):\n",
    "    self.player.mineral -= 50\n",
    "    print(\"건설로봇이 생성되었습니다.\")\n",
    "    return SCV(self.player)\n",
    "\n",
    "class Barracks:\n",
    "  def __init__(self, player):\n",
    "    self.player = player\n",
    "        \n",
    "  def produce_firebat(self):\n",
    "    self.player.mineral -= 50\n",
    "    self.player.gas -= 25\n",
    "    print(\"파이어벳이 생성되었습니다.\")\n",
    "    \n",
    "#class Factory:\n",
    "\n",
    "# 클래스: 플레이어\n",
    "class Player:\n",
    "  # 생성자\n",
    "  def __init__(self, name):\n",
    "    self.name = name\n",
    "    self.mineral = 1000\n",
    "    self.gas = 500\n",
    "\n",
    "  # 멤버 함수: 생성자와 같이 예약된 멤버 함수이며, 인스턴스를 문자열로 표현할 때 원하는 형태로 표현할 수 있다.\n",
    "  # 전에 실습했던 printInfo 와 유사한 역할을 한다. (차이점은 print 하지 않고 문자로 반환한다는 점)\n",
    "  def __str__(self):\n",
    "    return f\"{self.name}님의 보유 미네랄 양은 {self.mineral}, 가스 양은 {self.gas} 입니다.\"\n",
    "\n",
    "\n",
    "# 위에서 작성한 클래스를 이용한 코드작성\n",
    "def main():\n",
    "  # 초기 플레이어 설정\n",
    "  # 플레이어와 시작 건물 / 유닛을 생성한다.\n",
    "  player = Player('BoxeR')\n",
    "  commandCenter = CommandCenter(player)\n",
    "  scvList = [\n",
    "    SCV(player),\n",
    "    SCV(player),\n",
    "    SCV(player),\n",
    "    SCV(player),\n",
    "  ]\n",
    "  \n",
    "  \n",
    "\n",
    "  # 건설로봇 생산\n",
    "  newScv = commandCenter.produce()\n",
    "  scvList.append(newScv)\n",
    "  \n",
    "  #barracks = Barracks(player) ## 이게 있고 없고 차이가 뭐지?..\n",
    "  #newFirebat = barracks.produce_firebat()\n",
    "  newFirebat = Barracks(player).produce_firebat()\n",
    "\n",
    "  # 미네랄 채취\n",
    "  for scv in scvList:\n",
    "    scv.harvest()\n",
    "\n",
    "  # 플레이어 정보 출력\n",
    "  print(player)\n",
    "\n",
    "# 메인 함수 호출\n",
    "main()"
   ]
  }
 ],
 "metadata": {
  "kernelspec": {
   "display_name": "Python 3.9.12 ('base')",
   "language": "python",
   "name": "python3"
  },
  "language_info": {
   "codemirror_mode": {
    "name": "ipython",
    "version": 3
   },
   "file_extension": ".py",
   "mimetype": "text/x-python",
   "name": "python",
   "nbconvert_exporter": "python",
   "pygments_lexer": "ipython3",
   "version": "3.9.12"
  },
  "orig_nbformat": 4,
  "vscode": {
   "interpreter": {
    "hash": "a077222d77dfe082b8f1dd562ad70e458ac2ab76993a0b248ab0476e32e9e8dd"
   }
  }
 },
 "nbformat": 4,
 "nbformat_minor": 2
}
