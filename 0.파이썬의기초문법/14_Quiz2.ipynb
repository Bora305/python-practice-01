{
 "cells": [
  {
   "cell_type": "code",
   "execution_count": 6,
   "metadata": {},
   "outputs": [
    {
     "data": {
      "text/html": [
       "+ url + >"
      ],
      "text/plain": [
       "<IPython.core.display.HTML object>"
      ]
     },
     "metadata": {},
     "output_type": "display_data"
    }
   ],
   "source": [
    "from IPython.display import display, HTML\n",
    "\n",
    "def labelRefinery(labels):\n",
    "  quotedLabels = []\n",
    "  for label in labels:\n",
    "    quotedLabels.append(\"'{}'\".format(label));\n",
    "  return '[{}]'.format(','.join(quotedLabels))\n",
    "\n",
    "def dataSetRefinery(dataSets):\n",
    "  refinedDataSets = []\n",
    "  for dataSet in dataSets:\n",
    "    refinedDataSets.append(\"{label:'\" + dataSet[0] + \"',data:[\" + ','.join(map(str, dataSet[1])) + \"]}\")\n",
    "  return ','.join(refinedDataSets)\n",
    "\n",
    "def generateChartUrl(labels, dataSets):\n",
    "  return \"https://quickchart.io/chart?c={type:'bar',data:{labels:\" + labelRefinery(labels) + \",datasets:[\" + dataSetRefinery(dataSets) + \"]}}\"\n",
    "\n",
    "def showImage(url):\n",
    "  display(HTML('+ url + '\">\"))\n",
    "\n",
    "def drawChart(labels, dataSets):\n",
    "  url = generateChartUrl(labels, dataSets)\n",
    "  showImage(url)\n",
    "\n",
    "def main():\n",
    "  labels = ['유비', '관우', '장비', '제갈량']\n",
    "  dataSets = [\n",
    "    ['무력', [60, 95, 96, 40]],\n",
    "    ['지력', [70, 65, 50, 100]],\n",
    "    ['정치', [70, 60, 40, 95]],\n",
    "    ['매력', [100, 90, 60, 95]],\n",
    "  ]\n",
    "  drawChart(labels, dataSets)\n",
    "\n",
    "main()"
   ]
  },
  {
   "cell_type": "code",
   "execution_count": 7,
   "metadata": {},
   "outputs": [
    {
     "ename": "UnboundLocalError",
     "evalue": "local variable 'x' referenced before assignment",
     "output_type": "error",
     "traceback": [
      "\u001b[1;31m---------------------------------------------------------------------------\u001b[0m",
      "\u001b[1;31mUnboundLocalError\u001b[0m                         Traceback (most recent call last)",
      "\u001b[1;32md:\\Python_Study\\test_220924\\0.파이썬의기초문법\\114_Quiz2.ipynb 셀 2\u001b[0m in \u001b[0;36m<cell line: 58>\u001b[1;34m()\u001b[0m\n\u001b[0;32m     <a href='vscode-notebook-cell:/d%3A/Python_Study/test_220924/0.%ED%8C%8C%EC%9D%B4%EC%8D%AC%EC%9D%98%EA%B8%B0%EC%B4%88%EB%AC%B8%EB%B2%95/114_Quiz2.ipynb#W2sZmlsZQ%3D%3D?line=53'>54</a>\u001b[0m     x, y, directionX, directionY \u001b[39m=\u001b[39m move(x, y, directionX, directionY)\n\u001b[0;32m     <a href='vscode-notebook-cell:/d%3A/Python_Study/test_220924/0.%ED%8C%8C%EC%9D%B4%EC%8D%AC%EC%9D%98%EA%B8%B0%EC%B4%88%EB%AC%B8%EB%B2%95/114_Quiz2.ipynb#W2sZmlsZQ%3D%3D?line=54'>55</a>\u001b[0m     time\u001b[39m.\u001b[39msleep(\u001b[39m0.3\u001b[39m)\n\u001b[1;32m---> <a href='vscode-notebook-cell:/d%3A/Python_Study/test_220924/0.%ED%8C%8C%EC%9D%B4%EC%8D%AC%EC%9D%98%EA%B8%B0%EC%B4%88%EB%AC%B8%EB%B2%95/114_Quiz2.ipynb#W2sZmlsZQ%3D%3D?line=57'>58</a>\u001b[0m main()\n",
      "\u001b[1;32md:\\Python_Study\\test_220924\\0.파이썬의기초문법\\114_Quiz2.ipynb 셀 2\u001b[0m in \u001b[0;36mmain\u001b[1;34m()\u001b[0m\n\u001b[0;32m     <a href='vscode-notebook-cell:/d%3A/Python_Study/test_220924/0.%ED%8C%8C%EC%9D%B4%EC%8D%AC%EC%9D%98%EA%B8%B0%EC%B4%88%EB%AC%B8%EB%B2%95/114_Quiz2.ipynb#W2sZmlsZQ%3D%3D?line=50'>51</a>\u001b[0m \u001b[39mdef\u001b[39;00m \u001b[39mmain\u001b[39m():\n\u001b[0;32m     <a href='vscode-notebook-cell:/d%3A/Python_Study/test_220924/0.%ED%8C%8C%EC%9D%B4%EC%8D%AC%EC%9D%98%EA%B8%B0%EC%B4%88%EB%AC%B8%EB%B2%95/114_Quiz2.ipynb#W2sZmlsZQ%3D%3D?line=51'>52</a>\u001b[0m   \u001b[39mfor\u001b[39;00m i \u001b[39min\u001b[39;00m \u001b[39mrange\u001b[39m(\u001b[39m100\u001b[39m):\n\u001b[1;32m---> <a href='vscode-notebook-cell:/d%3A/Python_Study/test_220924/0.%ED%8C%8C%EC%9D%B4%EC%8D%AC%EC%9D%98%EA%B8%B0%EC%B4%88%EB%AC%B8%EB%B2%95/114_Quiz2.ipynb#W2sZmlsZQ%3D%3D?line=52'>53</a>\u001b[0m     render([x, y])\n\u001b[0;32m     <a href='vscode-notebook-cell:/d%3A/Python_Study/test_220924/0.%ED%8C%8C%EC%9D%B4%EC%8D%AC%EC%9D%98%EA%B8%B0%EC%B4%88%EB%AC%B8%EB%B2%95/114_Quiz2.ipynb#W2sZmlsZQ%3D%3D?line=53'>54</a>\u001b[0m     x, y, directionX, directionY \u001b[39m=\u001b[39m move(x, y, directionX, directionY)\n\u001b[0;32m     <a href='vscode-notebook-cell:/d%3A/Python_Study/test_220924/0.%ED%8C%8C%EC%9D%B4%EC%8D%AC%EC%9D%98%EA%B8%B0%EC%B4%88%EB%AC%B8%EB%B2%95/114_Quiz2.ipynb#W2sZmlsZQ%3D%3D?line=54'>55</a>\u001b[0m     time\u001b[39m.\u001b[39msleep(\u001b[39m0.3\u001b[39m)\n",
      "\u001b[1;31mUnboundLocalError\u001b[0m: local variable 'x' referenced before assignment"
     ]
    }
   ],
   "source": [
    "import time, random, copy\n",
    "from IPython.display import clear_output\n",
    "\n",
    "# Initial values\n",
    "screenSizeX = 40\n",
    "screenSizeY = 15\n",
    "screen = [[' '] * screenSizeX for _ in range(screenSizeY)]\n",
    "x, y, directionX, directionY = 0, 4, 'down', 'left'\n",
    "\n",
    "def move(x, y, initialDirectionX, initialDirectionY):\n",
    "  directionX = initialDirectionX\n",
    "  directionY = initialDirectionY\n",
    "  if (initialDirectionX == 'up'):\n",
    "    if x == 0:\n",
    "      x += 1\n",
    "      directionX = 'down'\n",
    "    else:\n",
    "      x -= 1\n",
    "  if (initialDirectionX == 'down'):\n",
    "    if x == screenSizeX - 1:\n",
    "      x -= 1\n",
    "      directionX = 'up'\n",
    "    else:\n",
    "      x += 1\n",
    "  if (initialDirectionY == 'left'):\n",
    "    if y == 0:\n",
    "      y += 1\n",
    "      directionY = 'right'\n",
    "    else:\n",
    "      y -= 1\n",
    "  if (initialDirectionY == 'right'):\n",
    "    if y == screenSizeY - 1:\n",
    "      y -= 1\n",
    "      directionY = 'left'\n",
    "    else:\n",
    "      y += 1\n",
    "\n",
    "  return x, y, directionX, directionY\n",
    "\n",
    "def render(object):\n",
    "  screen[object[1]][object[0]] = '*'\n",
    "  clear_output(wait=True)\n",
    "  print('-' * (screenSizeX + 4))\n",
    "  for row in screen:\n",
    "    print('|', ''.join(row), '|')\n",
    "  print('-' * (screenSizeX + 4))\n",
    "  lastFootPrint = object\n",
    "  screen[lastFootPrint[1]][lastFootPrint[0]] = 'O'\n",
    "\n",
    "\n",
    "def main():\n",
    "  for i in range(100):\n",
    "    render([x, y])\n",
    "    x, y, directionX, directionY = move(x, y, directionX, directionY)\n",
    "    time.sleep(0.3)\n",
    "\n",
    "\n",
    "main()"
   ]
  },
  {
   "cell_type": "code",
   "execution_count": null,
   "metadata": {},
   "outputs": [],
   "source": []
  }
 ],
 "metadata": {
  "kernelspec": {
   "display_name": "Python 3.9.12 ('base')",
   "language": "python",
   "name": "python3"
  },
  "language_info": {
   "codemirror_mode": {
    "name": "ipython",
    "version": 3
   },
   "file_extension": ".py",
   "mimetype": "text/x-python",
   "name": "python",
   "nbconvert_exporter": "python",
   "pygments_lexer": "ipython3",
   "version": "3.9.12"
  },
  "orig_nbformat": 4,
  "vscode": {
   "interpreter": {
    "hash": "a077222d77dfe082b8f1dd562ad70e458ac2ab76993a0b248ab0476e32e9e8dd"
   }
  }
 },
 "nbformat": 4,
 "nbformat_minor": 2
}
