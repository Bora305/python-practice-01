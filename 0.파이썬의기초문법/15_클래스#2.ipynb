{
 "cells": [
  {
   "cell_type": "code",
   "execution_count": 13,
   "metadata": {},
   "outputs": [
    {
     "name": "stdout",
     "output_type": "stream",
     "text": [
      "Student(조항현) 셍성!!\n",
      "이름:조항현, 나이:29, 좋아하는것:축구\n"
     ]
    }
   ],
   "source": [
    "class Student():\n",
    "    #생성자\n",
    "    def __init__(self,name,age,like):\n",
    "        #멤버 변수\n",
    "        self.name = name\n",
    "        self.age = age\n",
    "        self.like = like\n",
    "        print(f\"Student({self.name}) 셍성!!\")\n",
    "    \n",
    "    #멤버 함수\n",
    "    def studentInfo(self):\n",
    "        print(f\"이름:{self.name}, 나이:{self.age}, 좋아하는것:{self.like}\")\n",
    "        \n",
    "def main():\n",
    "    조항현 = Student(\"조항현\",29,\"축구\")\n",
    "    조항현.studentInfo()\n",
    "\n",
    "main()\n",
    "    \n",
    "    \n",
    "#김철수 = Student(\"김철수\",17,\"축구\")\n",
    "#장다인 = Student(\"장다인\",5,\"헬로카봇\")\n",
    "#김철수.studentInfo()\n",
    "#장다인.studentInfo()"
   ]
  },
  {
   "cell_type": "markdown",
   "metadata": {},
   "source": [
    "클래스의 구성요소\n",
    "멤버 변수\n",
    "멤버 함수\n",
    "    생성자: 인스턴스가 생성될 때 자동으로 실행이 됨\n",
    "    소멸자: 인스턴스가 소멸할 때 자동으로 실행이 됨\n",
    "\n",
    "class <-> instance\n",
    "\n",
    "class : 공장\n",
    "instance : 공장에서 찍어내는 물건\n",
    "\n"
   ]
  },
  {
   "cell_type": "code",
   "execution_count": 23,
   "metadata": {},
   "outputs": [
    {
     "name": "stdout",
     "output_type": "stream",
     "text": [
      "POWER: ON, SPEED: 500\n",
      "POWER: ON, BRAND: 커세어\n",
      "POWER: OFF, SPEED: 0\n",
      "POWER: OFF, SPEED: 0\n"
     ]
    }
   ],
   "source": [
    "class Fan:\n",
    "    def __init__(self):\n",
    "        self.power = False\n",
    "        self.rpm = 500\n",
    "        self.speed = 0\n",
    "        \n",
    "    def printInfo(self):\n",
    "        print(f\"POWER: {'ON' if self.power == True else 'OFF'}, SPEED: {self.speed}\")\n",
    "\n",
    "    def powerOn(self):\n",
    "        self.power = True\n",
    "        self.speed = self.rpm\n",
    "        \n",
    "    def powerOff(self):\n",
    "        self.power = False\n",
    "        self.speed = 0\n",
    "        \n",
    "호우컴_케이스_전면_팬1 = Fan()\n",
    "호우컴_케이스_전면_팬1.powerOn()\n",
    "호우컴_케이스_전면_팬1.printInfo()\n",
    "\n",
    "\n",
    "class ComputerCase:\n",
    "    def __init__(self, formFactor, brand):\n",
    "        self.formFactor = formFactor\n",
    "        self.brand = brand\n",
    "        self.power = False\n",
    "        #펜을 컴퓨터 안에 넣어봅시다.\n",
    "        self.fan1 = Fan()\n",
    "        self.fan2 = Fan()\n",
    "    \n",
    "    def printInfo(self):\n",
    "        print(f\"POWER: {'ON' if self.power == True else 'OFF'}, BRAND: {self.brand}\")\n",
    "        self.fan1.printInfo()\n",
    "        self.fan2.printInfo()\n",
    "    \n",
    "    def controlFan(self, action):\n",
    "        print(f'펜: {action}')\n",
    "        \n",
    "    def powerOn(self):\n",
    "        self.power = True\n",
    "        \n",
    "    def powerOff(self):\n",
    "        self.power = False\n",
    "        \n",
    "howooCom_case_01 = ComputerCase('ATX', '커세어')\n",
    "howooCom_case_01.powerOn()\n",
    "howooCom_case_01.printInfo()\n",
    "\n",
    "    \n",
    "        \n",
    "    \n",
    "        "
   ]
  },
  {
   "cell_type": "code",
   "execution_count": 34,
   "metadata": {},
   "outputs": [
    {
     "name": "stdout",
     "output_type": "stream",
     "text": [
      "Light: ON\n",
      "Camera: ON\n"
     ]
    }
   ],
   "source": [
    "# 스마트폰 클래스를 만들고\n",
    "# 카메라 클래스를 만들자\n",
    "# 카메라에 FlashOn 함수를 만들고\n",
    "# 스마트폰의 LightOn 함수에서 연동이 되게 해보자\n",
    "\n",
    "class SmartPhone:\n",
    "    def __init__(self):\n",
    "        self.power = False\n",
    "        self.camera = Camera()\n",
    "        \n",
    "    def LightOn(self):\n",
    "        self.power = True\n",
    "        self.camera.FlashOn()\n",
    "        \n",
    "    def printInfo(self):\n",
    "        print(f\"Light: {'ON' if self.power == True else 'OFF'}\")\n",
    "        print(f\"Camera: {'ON' if self.camera.power == True else 'OFF'}\")\n",
    "        \n",
    "class Camera:\n",
    "    def __init__(self):\n",
    "        self.power = False\n",
    "        \n",
    "    def FlashOn(self):\n",
    "        self.power = True\n",
    "        \n",
    "\n",
    "test01 = SmartPhone()\n",
    "test01.LightOn()\n",
    "test01.printInfo()"
   ]
  }
 ],
 "metadata": {
  "kernelspec": {
   "display_name": "Python 3.9.12 ('base')",
   "language": "python",
   "name": "python3"
  },
  "language_info": {
   "codemirror_mode": {
    "name": "ipython",
    "version": 3
   },
   "file_extension": ".py",
   "mimetype": "text/x-python",
   "name": "python",
   "nbconvert_exporter": "python",
   "pygments_lexer": "ipython3",
   "version": "3.9.12"
  },
  "orig_nbformat": 4,
  "vscode": {
   "interpreter": {
    "hash": "a077222d77dfe082b8f1dd562ad70e458ac2ab76993a0b248ab0476e32e9e8dd"
   }
  }
 },
 "nbformat": 4,
 "nbformat_minor": 2
}
