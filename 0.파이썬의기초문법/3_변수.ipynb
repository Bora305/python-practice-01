{
 "cells": [
  {
   "cell_type": "code",
   "execution_count": 2,
   "metadata": {},
   "outputs": [
    {
     "name": "stdout",
     "output_type": "stream",
     "text": [
      "30\n"
     ]
    }
   ],
   "source": [
    "a = 10\n",
    "b = 20\n",
    "c = a+b\n",
    "print (c)"
   ]
  },
  {
   "cell_type": "code",
   "execution_count": 4,
   "metadata": {},
   "outputs": [
    {
     "ename": "TypeError",
     "evalue": "unsupported operand type(s) for +: 'int' and 'str'",
     "output_type": "error",
     "traceback": [
      "\u001b[1;31m---------------------------------------------------------------------------\u001b[0m",
      "\u001b[1;31mTypeError\u001b[0m                                 Traceback (most recent call last)",
      "\u001b[1;32md:\\Python_Study\\test_220924\\0.파이썬의기초문법\\3_변수.ipynb 셀 2\u001b[0m in \u001b[0;36m<cell line: 5>\u001b[1;34m()\u001b[0m\n\u001b[0;32m      <a href='vscode-notebook-cell:/d%3A/Python_Study/test_220924/0.%ED%8C%8C%EC%9D%B4%EC%8D%AC%EC%9D%98%EA%B8%B0%EC%B4%88%EB%AC%B8%EB%B2%95/3_%EB%B3%80%EC%88%98.ipynb#W1sZmlsZQ%3D%3D?line=2'>3</a>\u001b[0m c \u001b[39m=\u001b[39m a\u001b[39m+\u001b[39mb\n\u001b[0;32m      <a href='vscode-notebook-cell:/d%3A/Python_Study/test_220924/0.%ED%8C%8C%EC%9D%B4%EC%8D%AC%EC%9D%98%EA%B8%B0%EC%B4%88%EB%AC%B8%EB%B2%95/3_%EB%B3%80%EC%88%98.ipynb#W1sZmlsZQ%3D%3D?line=3'>4</a>\u001b[0m d\u001b[39m=\u001b[39m\u001b[39m\"\u001b[39m\u001b[39m10\u001b[39m\u001b[39m\"\u001b[39m\n\u001b[1;32m----> <a href='vscode-notebook-cell:/d%3A/Python_Study/test_220924/0.%ED%8C%8C%EC%9D%B4%EC%8D%AC%EC%9D%98%EA%B8%B0%EC%B4%88%EB%AC%B8%EB%B2%95/3_%EB%B3%80%EC%88%98.ipynb#W1sZmlsZQ%3D%3D?line=4'>5</a>\u001b[0m \u001b[39mprint\u001b[39m(c\u001b[39m+\u001b[39;49md)\n",
      "\u001b[1;31mTypeError\u001b[0m: unsupported operand type(s) for +: 'int' and 'str'"
     ]
    }
   ],
   "source": [
    "a = 10\n",
    "b = 20\n",
    "c = a+b\n",
    "d=\"10\"\n",
    "print(c+d)"
   ]
  },
  {
   "cell_type": "code",
   "execution_count": 5,
   "metadata": {},
   "outputs": [
    {
     "name": "stdout",
     "output_type": "stream",
     "text": [
      "40\n"
     ]
    }
   ],
   "source": [
    "a = 10\n",
    "b = 20\n",
    "c = a+b\n",
    "d=\"10\"\n",
    "print(c+ int(d)) #int() 같은 친구를 type casting 이라고 한다 *"
   ]
  },
  {
   "cell_type": "code",
   "execution_count": 7,
   "metadata": {},
   "outputs": [
    {
     "name": "stdout",
     "output_type": "stream",
     "text": [
      "3010\n"
     ]
    }
   ],
   "source": [
    "a = 10\n",
    "b = 20\n",
    "c = a+b\n",
    "d=\"10\"\n",
    "print(str(c)+d)"
   ]
  },
  {
   "cell_type": "code",
   "execution_count": 8,
   "metadata": {},
   "outputs": [
    {
     "name": "stdout",
     "output_type": "stream",
     "text": [
      "13.14\n"
     ]
    }
   ],
   "source": [
    "e=3.14\n",
    "f=10\n",
    "print(e+f)"
   ]
  },
  {
   "cell_type": "code",
   "execution_count": 9,
   "metadata": {},
   "outputs": [
    {
     "name": "stdout",
     "output_type": "stream",
     "text": [
      "20.0\n"
     ]
    }
   ],
   "source": [
    "a = 10\n",
    "b = 10\n",
    "c = float(a) + float(b)\n",
    "print (c)"
   ]
  },
  {
   "cell_type": "code",
   "execution_count": 11,
   "metadata": {},
   "outputs": [
    {
     "name": "stdout",
     "output_type": "stream",
     "text": [
      "True\n",
      "False\n",
      "<class 'bool'>\n",
      "<class 'bool'>\n",
      "1\n",
      "0\n",
      "<class 'int'>\n",
      "<class 'int'>\n",
      "True\n",
      "False\n"
     ]
    }
   ],
   "source": [
    "a_bool = True\n",
    "b_bool = False\n",
    "a_int = 1\n",
    "b_int = 0\n",
    "print(a_bool)\n",
    "print(b_bool)\n",
    "print(type(a_bool))\n",
    "print(type(b_bool))\n",
    "print(a_int)\n",
    "print(b_int)\n",
    "print(type(a_int))\n",
    "print(type(b_int))\n",
    "\n",
    "print(bool(a_int))\n",
    "print(bool(b_int))"
   ]
  }
 ],
 "metadata": {
  "kernelspec": {
   "display_name": "Python 3.9.12 ('base')",
   "language": "python",
   "name": "python3"
  },
  "language_info": {
   "codemirror_mode": {
    "name": "ipython",
    "version": 3
   },
   "file_extension": ".py",
   "mimetype": "text/x-python",
   "name": "python",
   "nbconvert_exporter": "python",
   "pygments_lexer": "ipython3",
   "version": "3.9.12"
  },
  "orig_nbformat": 4,
  "vscode": {
   "interpreter": {
    "hash": "a077222d77dfe082b8f1dd562ad70e458ac2ab76993a0b248ab0476e32e9e8dd"
   }
  }
 },
 "nbformat": 4,
 "nbformat_minor": 2
}
