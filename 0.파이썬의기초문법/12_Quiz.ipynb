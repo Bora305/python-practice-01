{
 "cells": [
  {
   "cell_type": "code",
   "execution_count": 3,
   "metadata": {},
   "outputs": [
    {
     "name": "stdout",
     "output_type": "stream",
     "text": [
      "4월 1일\n"
     ]
    }
   ],
   "source": [
    "import random\n",
    "\n",
    "def randomMonthDay():\n",
    "  # 월별 일수를 저장한 리스트를 만듭니다.\n",
    "  numberOfDaysAtMonths = [31, 28, 31, 30, 31, 30, 31, 31, 30, 31, 30, 31]\n",
    "  # 1년 중에서 랜덤한 하루를 선택합니다.\n",
    "  randomDay = random.randint(1, 365)\n",
    "  print('randomday#0',randomDay)\n",
    "  \n",
    "  \n",
    "  # 랜덤한 하루가 몇 월 몇 일인지 계산합니다.\n",
    "  month = 0\n",
    "  while randomDay > numberOfDaysAtMonths[month]:\n",
    "    print('randomday#1',randomDay)\n",
    "    print('numberOfDaysAthMonths#1',numberOfDaysAtMonths[month])\n",
    "    \n",
    "    randomDay -= numberOfDaysAtMonths[month]\n",
    "    print('randomday#2',randomDay)\n",
    "    print('numberOfDaysAthMonths#2',numberOfDaysAtMonths[month])\n",
    "    month += 1\n",
    "  \n",
    "  # 결과를 리턴합니다.\n",
    "  return month + 1, randomDay\n",
    "\n",
    "\n",
    "# 위에서 만든 함수 테스트 코드 range(5)\n",
    "for i in range(1):\n",
    "  month, day = randomMonthDay()\n",
    "  print('{}월 {}일'.format(month, day))"
   ]
  },
  {
   "cell_type": "markdown",
   "metadata": {},
   "source": [
    "문제 1\n",
    "랜덤으로 날짜를 출력하는 함수가 있다. (하단 셀 참조)\n",
    "\n",
    "(23번째 줄) 랜덤으로 만들어낸 날짜를 리턴하는 부분에서 month에 왜 +1을 해주었을까?\n",
    ">>> 배열 때문에 0부터 시작하는데, 0월로 반환하면 안되기 때문에 1을 더해서 1월로 시작하게 만들어 줌"
   ]
  },
  {
   "cell_type": "markdown",
   "metadata": {},
   "source": [
    "문제 2\n",
    "1번 문제에서 보다 정확도를 높이기 위해(1년은 365.25일) 윤년까지 계산하게 수정하였다.\n",
    "\n",
    "랜덤으로 나온 결과가 누군가의 생일일 경우 생일축하 메시지를 띄워주는 기능을 추가해보자.\n",
    "\n",
    "생일 데이터 예\n",
    "\n",
    "birthDays = [\n",
    "  ['홍길동', 5, 14],\n",
    "  ['전우치', 9, 30],\n",
    "  ['임꺽정', 12, 25],\n",
    "]"
   ]
  },
  {
   "cell_type": "code",
   "execution_count": 24,
   "metadata": {},
   "outputs": [
    {
     "name": "stdout",
     "output_type": "stream",
     "text": [
      "6월 2일\n",
      "6월 27일\n",
      "6월 8일\n",
      "6월 24일\n",
      "6월 9일\n"
     ]
    }
   ],
   "source": [
    "import random\n",
    "\n",
    "birthdays =[['홍길동', 5, 14],\n",
    "  ['전우치', 5, 15],\n",
    "  ['임꺽정', 5, 16],\n",
    "  ['호우맨', 5, 17],\n",
    "  ['김종찬', 5, 18]]\n",
    "\n",
    "def isBirth(month, day):\n",
    "  for name, bMonth, bDay in birthdays:\n",
    "    if month == bMonth and day == bDay:\n",
    "      return name\n",
    "\n",
    "\n",
    "def randomMonthDay():\n",
    "  # 1/4 확률로 윤년을 만듭니다.\n",
    "  isLeapYear = random.choice([True, False, False, False])\n",
    "\n",
    "  # 월별 일수를 저장한 리스트를 만듭니다.\n",
    "  numberOfDaysAtMonths = [31, 29 if isLeapYear else 28, 31, 30, 31, 30, 31, 31, 30, 31, 30, 31]\n",
    "\n",
    "  # 1년에 해당하는 일수를 계산합니다.\n",
    "  numberOfDaysAtAnYear = 366 if isLeapYear else 365 # sum(numberOfDaysAtMonths)\n",
    "\n",
    "  # 1년 중에서 랜덤한 하루를 선택합니다.\n",
    "  randomDay = random.randint(1, numberOfDaysAtAnYear)\n",
    "\n",
    "  # 랜덤한 하루가 몇 월 몇 일인지 계산합니다.\n",
    "  month = 0\n",
    "  while randomDay > numberOfDaysAtMonths[month]:\n",
    "    randomDay -= numberOfDaysAtMonths[month]\n",
    "    month += 1\n",
    "    \n",
    "  month = 4\n",
    "    \n",
    "  nameOfBirth = isBirth(month + 1, day);\n",
    "  \n",
    "  # 결과를 리턴합니다.\n",
    "  # return month + 1, randomDay  \n",
    "  return month + 1, randomDay, nameOfBirth\n",
    "\n",
    "\n",
    "\n",
    "\n",
    "# 위에서 만든 함수 테스트 코드\n",
    "for i in range(5):\n",
    "  month, day, nameOfBirth = randomMonthDay()\n",
    "  \n",
    "  if (nameOfBirth is not None):\n",
    "    print(nameOfBirth,\"님 생일 축하드립니다!!!\")\n",
    "    \n",
    "  print('{}월 {}일'.format(month, day))\n",
    "\n",
    "  \"\"\"n = 0\n",
    "  while n < 6:\n",
    "    \n",
    "    if month == birthDays[n][1] and day == birthDays[n][2]:\n",
    "      print(birthDays[n][n],\"님 생일 축하드립니다!!!\")\"\"\"\n",
    "      #뭔가 한줄 + 자동화? 해보려고 햇는데 실패함... 스미마셍...\n",
    "      \n",
    "# 1. 입력값이 무엇인가 > month, day, birthdays\n",
    "# 2. 출력값이 무엇인가 > 값의 비교 True or False\n",
    "# 3. 입력값으로 출력값을 귀하기 위한 과정이 무엇인가"
   ]
  },
  {
   "cell_type": "markdown",
   "metadata": {},
   "source": [
    "다음 단위를 미터로 변환하는 함수를 완성하시오.\n",
    "\n",
    "인치 (in)\n",
    "피트 (ft)\n",
    "야드 (yd)\n",
    "마일 (mi)\n",
    "기대하는 결과\n",
    "\n",
    "2.54m\n",
    "지원하지 않는 단위입니다.: xx\n",
    "91.44m\n",
    "30.48m\n",
    "160934.4m"
   ]
  },
  {
   "cell_type": "code",
   "execution_count": 7,
   "metadata": {},
   "outputs": [
    {
     "name": "stdout",
     "output_type": "stream",
     "text": [
      "2.54m\n",
      "지원하지 않는 단위입니다.: xx\n",
      "91.44m\n",
      "30.48m\n",
      "160934.4m\n"
     ]
    }
   ],
   "source": [
    "\n",
    "# 1. 기능을 수행하는 함수\n",
    "def toMeter(unit, value):\n",
    "  if unit == 'in' or unit == 'inch':\n",
    "    return value * 0.0254\n",
    "  if unit == 'yard' or unit == 'yd':\n",
    "    return value * 0.9144\n",
    "  if unit == 'ft':\n",
    "    return value * 0.3048\n",
    "  if unit == 'mile':\n",
    "    return value * 1609.344\n",
    "  else:\n",
    "    raise Exception('지원하지 않는 단위입니다.: {}'.format(unit))\n",
    "\n",
    "# 2. 실행할 데이터 셋\n",
    "testSet = [\n",
    "  ['in', 100],\n",
    "  ['xx', 100],\n",
    "  ['yard', 100],\n",
    "  ['ft', 100],\n",
    "  ['mile', 100],\n",
    "]\n",
    "\n",
    "# 3. 데이터셋에 함수 실행\n",
    "for unit, value in testSet:\n",
    "  try:\n",
    "    result = toMeter(unit, value)\n",
    "    print(str(result) + 'm')\n",
    "  except Exception as e:\n",
    "    print(e)"
   ]
  }
 ],
 "metadata": {
  "kernelspec": {
   "display_name": "Python 3.9.12 ('base')",
   "language": "python",
   "name": "python3"
  },
  "language_info": {
   "codemirror_mode": {
    "name": "ipython",
    "version": 3
   },
   "file_extension": ".py",
   "mimetype": "text/x-python",
   "name": "python",
   "nbconvert_exporter": "python",
   "pygments_lexer": "ipython3",
   "version": "3.9.12"
  },
  "orig_nbformat": 4,
  "vscode": {
   "interpreter": {
    "hash": "a077222d77dfe082b8f1dd562ad70e458ac2ab76993a0b248ab0476e32e9e8dd"
   }
  }
 },
 "nbformat": 4,
 "nbformat_minor": 2
}
