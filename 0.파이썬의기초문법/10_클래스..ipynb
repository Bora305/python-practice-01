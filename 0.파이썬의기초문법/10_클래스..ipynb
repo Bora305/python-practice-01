{
 "cells": [
  {
   "cell_type": "code",
   "execution_count": null,
   "metadata": {},
   "outputs": [],
   "source": [
    "import random\n",
    "\n",
    "print(\"걸리면 좆되는 가위바위보 입니다.\")\n",
    "\n",
    "nPeople = int(input(\"참여할 인원을 입력해 주세요. (2-5)\"))\n",
    "\n",
    "peoples = [];\n",
    "\n",
    "for i in range(nPeople):\n",
    "    peoples.append(input(f\"{i + 1}번 이름 입력\"));\n",
    "\n",
    "print(\"뽑기 인원은 총\", nPeople ,\"명 입니다.\")\n",
    "\n",
    "def gacha(list):\n",
    "    num = random.randrange(1, len(list) + 1)\n",
    "    victim = \"\"\n",
    "    for i in range(len(list)):\n",
    "        if (i == num):\n",
    "            victim = list[i]\n",
    "            break\n",
    "    return victim\n",
    "\n",
    "\n",
    "print(\"결과:\", gacha(peoples));"
   ]
  },
  {
   "cell_type": "code",
   "execution_count": 57,
   "metadata": {},
   "outputs": [
    {
     "name": "stdout",
     "output_type": "stream",
     "text": [
      "launchGame:  ['김병호', '김종찬', '조항현', '정병규', '조종원']\n",
      "coffeeGame:  4\n",
      "launchGame:  정병규\n",
      "coffeehGame:  정병규\n"
     ]
    }
   ],
   "source": [
    "import random\n",
    "\n",
    "class GatchaGame():\n",
    "    #여기 넣어야 할 변수는 무엇일까? > 게임 참가 인원\n",
    "    def __init__(self, people):\n",
    "        self.nPeople = len(people)\n",
    "        #초기값을 넣는 과정임, 2로 넣어봅시다\n",
    "        #차가자 이름\n",
    "        self.participants = people\n",
    "        #변수의 복수/단수를 구분해주는게 아주 중요함 participant > participants\n",
    "        #빈 배열을 넣어줍니다\n",
    "        #초기 값은 다 넣었습니다. 값을 변경하고 확인할 수 있는 함수를 하나씩 만들어야 합니다.\n",
    "        #이를 보통 getter, setter 라고 합니다.\n",
    "\n",
    "    def set_nPeople(self, nPeople):\n",
    "        self.nPeople = nPeople\n",
    "\n",
    "    def play(self):\n",
    "        num = random.randrange(1, self.nPeople + 1)\n",
    "        victim = \"\"\n",
    "        for i in range(self.nPeople):\n",
    "            if (i == num - 1):\n",
    "                victim = self.participants[i]\n",
    "                break\n",
    "        return victim\n",
    "\n",
    "#찍어내봅시다\n",
    "launchGame = GatchaGame([\"김병호\", \"김종찬\",\"조항현\",\"정병규\",\"조종원\"])\n",
    "#gmae1 이 찍혀서 나왔음, 이 게임1에 인원수를 출력해봅시다\n",
    "print(\"launchGame: \", launchGame.participants)\n",
    "#밖에서 넣고 빼고 하지 말고 안에서 작동되게 만들어볼까요?, 이런걸 보통 캡슐화 라고 합니다.\n",
    "\n",
    "coffeeGame = GatchaGame([\"김병호\", \"김종찬\",\"정병규\",\"조종원\"])\n",
    "#coffeeGame.set_nPeople(3)\n",
    "print(\"coffeeGame: \", coffeeGame.nPeople)\n",
    "\n",
    "print(\"launchGame: \", launchGame.play())\n",
    "print(\"coffeehGame: \", coffeeGame.play())\n",
    "\n"
   ]
  },
  {
   "cell_type": "code",
   "execution_count": null,
   "metadata": {},
   "outputs": [],
   "source": [
    "class GatchaGame():\n",
    "    #여기 넣어야 할 변수는 무엇일까? > 게임 참가 인원\n",
    "    def __init__(self, _nPeople):\n",
    "        self.nPeople = _nPeople\n",
    "        #초기값을 넣는 과정임, 2로 넣어봅시다\n",
    "        #차가자 이름\n",
    "        self.participants = []\n",
    "        #변수의 복수/단수를 구분해주는게 아주 중요함 participant > participants\n",
    "        #빈 배열을 넣어줍니다\n",
    "        #초기 값은 다 넣었습니다. 값을 변경하고 확인할 수 있는 함수를 하나씩 만들어야 합니다.\n",
    "        #이를 보통 getter, setter 라고 합니다.\n",
    "    def set_nPeople(self, nPeople):\n",
    "        self.nPeople = nPeople\n",
    "        \n",
    "\n",
    "\n",
    "#찍어내봅시다\n",
    "launchGame = GatchaGame(5)\n",
    "#gmae1 이 찍혀서 나왔음, 이 게임1에 인원수를 출력해봅시다\n",
    "print(\"launchGame: \", launchGame.nPeople)\n",
    "#밖에서 넣고 빼고 하지 말고 안에서 작동되게 만들어볼까요?, 이런걸 보통 캡슐화 라고 합니다.\n",
    "\n",
    "coffeeGame = GatchaGame(4)\n",
    "coffeeGame.set_nPeople(3)\n",
    "print(\"coffeeGame: \", coffeeGame.nPeople)\n"
   ]
  },
  {
   "cell_type": "code",
   "execution_count": null,
   "metadata": {},
   "outputs": [],
   "source": [
    "class HouComComputer():\n",
    "    #여기 넣어야 할 변수는 무엇일까? > 게임 참가 인원\n",
    "    def __init__(self, cpu):\n",
    "        self.cpu = cpu\n",
    "\n",
    "\n",
    "class YongPalComputer():\n",
    "    #여기 넣어야 할 변수는 무엇일까? > 게임 참가 인원\n",
    "    def __init__(self):\n",
    "        self.cpu = \"INTEL\"\n",
    "        \n",
    "        \n",
    "        \n",
    "jongwonCom = YongPalComputer()\n",
    "hyungwooCom = HouComComputer(\"AMD\")\n",
    "jongchanCom = HouComComputer(\"INTEL\")\n",
    "\n"
   ]
  },
  {
   "cell_type": "markdown",
   "metadata": {},
   "source": [
    "주변에서 볼 수 있는 물체로 Class 를 만들어 봅시다 [숙제!!!!]\n",
    "3개 해옵시다 :D\n",
    "클레스로 어떻게 구현할 수 있는지 생각해보기\n",
    "변수 / 함수 !!!\n"
   ]
  }
 ],
 "metadata": {
  "kernelspec": {
   "display_name": "Python 3.9.12 ('base')",
   "language": "python",
   "name": "python3"
  },
  "language_info": {
   "codemirror_mode": {
    "name": "ipython",
    "version": 3
   },
   "file_extension": ".py",
   "mimetype": "text/x-python",
   "name": "python",
   "nbconvert_exporter": "python",
   "pygments_lexer": "ipython3",
   "version": "3.9.12"
  },
  "orig_nbformat": 4,
  "vscode": {
   "interpreter": {
    "hash": "a077222d77dfe082b8f1dd562ad70e458ac2ab76993a0b248ab0476e32e9e8dd"
   }
  }
 },
 "nbformat": 4,
 "nbformat_minor": 2
}
