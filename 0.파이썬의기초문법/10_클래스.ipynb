{
 "cells": [
  {
   "cell_type": "code",
   "execution_count": null,
   "metadata": {},
   "outputs": [],
   "source": [
    "import random\n",
    "\n",
    "print(\"걸리면 좆되는 가위바위보 입니다.\")\n",
    "\n",
    "nPeople = int(input(\"참여할 인원을 입력해 주세요. (2-5)\"))\n",
    "\n",
    "peoples = [];\n",
    "\n",
    "for i in range(nPeople):\n",
    "    peoples.append(input(f\"{i + 1}번 이름 입력\"));\n",
    "\n",
    "print(\"뽑기 인원은 총\", nPeople ,\"명 입니다.\")\n",
    "\n",
    "def gacha(list):\n",
    "    num = random.randrange(1, len(list) + 1)\n",
    "    victim = \"\"\n",
    "    for i in range(len(list)):\n",
    "        if (i == num):\n",
    "            victim = list[i]\n",
    "            break\n",
    "    return victim\n",
    "\n",
    "\n",
    "print(\"결과:\", gacha(peoples));"
   ]
  },
  {
   "cell_type": "code",
   "execution_count": 57,
   "metadata": {},
   "outputs": [
    {
     "name": "stdout",
     "output_type": "stream",
     "text": [
      "launchGame:  ['김병호', '김종찬', '조항현', '정병규', '조종원']\n",
      "coffeeGame:  4\n",
      "launchGame:  정병규\n",
      "coffeehGame:  정병규\n"
     ]
    }
   ],
   "source": [
    "import random\n",
    "\n",
    "class GatchaGame():\n",
    "    #여기 넣어야 할 변수는 무엇일까? > 게임 참가 인원\n",
    "    def __init__(self, people):\n",
    "        self.nPeople = len(people)\n",
    "        #초기값을 넣는 과정임, 2로 넣어봅시다\n",
    "        #차가자 이름\n",
    "        self.participants = people\n",
    "        #변수의 복수/단수를 구분해주는게 아주 중요함 participant > participants\n",
    "        #빈 배열을 넣어줍니다\n",
    "        #초기 값은 다 넣었습니다. 값을 변경하고 확인할 수 있는 함수를 하나씩 만들어야 합니다.\n",
    "        #이를 보통 getter, setter 라고 합니다.\n",
    "\n",
    "    def set_nPeople(self, nPeople):\n",
    "        self.nPeople = nPeople\n",
    "\n",
    "    def play(self):\n",
    "        num = random.randrange(1, self.nPeople + 1)\n",
    "        victim = \"\"\n",
    "        for i in range(self.nPeople):\n",
    "            if (i == num - 1):\n",
    "                victim = self.participants[i]\n",
    "                break\n",
    "        return victim\n",
    "\n",
    "#찍어내봅시다\n",
    "launchGame = GatchaGame([\"김병호\", \"김종찬\",\"조항현\",\"정병규\",\"조종원\"])\n",
    "#gmae1 이 찍혀서 나왔음, 이 게임1에 인원수를 출력해봅시다\n",
    "print(\"launchGame: \", launchGame.participants)\n",
    "#밖에서 넣고 빼고 하지 말고 안에서 작동되게 만들어볼까요?, 이런걸 보통 캡슐화 라고 합니다.\n",
    "\n",
    "coffeeGame = GatchaGame([\"김병호\", \"김종찬\",\"정병규\",\"조종원\"])\n",
    "#coffeeGame.set_nPeople(3)\n",
    "print(\"coffeeGame: \", coffeeGame.nPeople)\n",
    "\n",
    "print(\"launchGame: \", launchGame.play())\n",
    "print(\"coffeehGame: \", coffeeGame.play())\n",
    "\n"
   ]
  },
  {
   "cell_type": "code",
   "execution_count": 4,
   "metadata": {},
   "outputs": [
    {
     "name": "stdout",
     "output_type": "stream",
     "text": [
      "launchGame:  5\n",
      "coffeeGame:  3\n"
     ]
    }
   ],
   "source": [
    "class GatchaGame():\n",
    "    #여기 넣어야 할 변수는 무엇일까? > 게임 참가 인원\n",
    "    def __init__(self, _nPeople):\n",
    "        self.nPeople = _nPeople\n",
    "        #초기값을 넣는 과정임, 2로 넣어봅시다\n",
    "        #차가자 이름\n",
    "        self.participants = []\n",
    "        #변수의 복수/단수를 구분해주는게 아주 중요함 participant > participants\n",
    "        #빈 배열을 넣어줍니다\n",
    "        #초기 값은 다 넣었습니다. 값을 변경하고 확인할 수 있는 함수를 하나씩 만들어야 합니다.\n",
    "        #이를 보통 getter, setter 라고 합니다.\n",
    "    def set_nPeople(self, nPeople):\n",
    "        self.nPeople = nPeople\n",
    "        \n",
    "\n",
    "\n",
    "#찍어내봅시다\n",
    "launchGame = GatchaGame(5)\n",
    "#gmae1 이 찍혀서 나왔음, 이 게임1에 인원수를 출력해봅시다\n",
    "print(\"launchGame: \", launchGame.nPeople)\n",
    "#밖에서 넣고 빼고 하지 말고 안에서 작동되게 만들어볼까요?, 이런걸 보통 캡슐화 라고 합니다.\n",
    "\n",
    "coffeeGame = GatchaGame(4)\n",
    "coffeeGame.set_nPeople(3)\n",
    "print(\"coffeeGame: \", coffeeGame.nPeople)\n"
   ]
  },
  {
   "cell_type": "code",
   "execution_count": 1,
   "metadata": {},
   "outputs": [],
   "source": [
    "class HouComComputer():\n",
    "    #여기 넣어야 할 변수는 무엇일까? > 게임 참가 인원\n",
    "    def __init__(self, cpu):\n",
    "        self.cpu = cpu\n",
    "\n",
    "\n",
    "class YongPalComputer():\n",
    "    #여기 넣어야 할 변수는 무엇일까? > 게임 참가 인원\n",
    "    def __init__(self):\n",
    "        self.cpu = \"INTEL\"\n",
    "        \n",
    "        \n",
    "        \n",
    "jongwonCom = YongPalComputer()\n",
    "hyungwooCom = HouComComputer(\"AMD\")\n",
    "jongchanCom = HouComComputer(\"INTEL\")\n",
    "\n"
   ]
  },
  {
   "cell_type": "code",
   "execution_count": 1,
   "metadata": {},
   "outputs": [
    {
     "name": "stdout",
     "output_type": "stream",
     "text": [
      "선풍기 전원: OFF\n",
      "선풍기 전원: ON\n",
      "선풍기 전원: OFF\n"
     ]
    }
   ],
   "source": [
    "class ElectronicFan_default():\n",
    "    def __init__(self):\n",
    "        self.power = \"선풍기 전원: OFF\"\n",
    "        print(self.power)\n",
    "\n",
    "class ElectronicFan():\n",
    "    def __init__(self, power):\n",
    "        self.power = power\n",
    "        print(\"선풍기 전원:\",power)\n",
    "\n",
    "        \n",
    "power_default = ElectronicFan_default()\n",
    "power_on = ElectronicFan(\"ON\")\n",
    "power_off = ElectronicFan(\"OFF\")\n",
    "\n",
    "        "
   ]
  },
  {
   "cell_type": "code",
   "execution_count": 9,
   "metadata": {},
   "outputs": [
    {
     "name": "stdout",
     "output_type": "stream",
     "text": [
      "OFF\n",
      "선풍기 전원: ON\n"
     ]
    },
    {
     "ename": "TypeError",
     "evalue": "set_power() missing 1 required positional argument: 'power'",
     "output_type": "error",
     "traceback": [
      "\u001b[1;31m---------------------------------------------------------------------------\u001b[0m",
      "\u001b[1;31mTypeError\u001b[0m                                 Traceback (most recent call last)",
      "\u001b[1;32md:\\Python_Study\\test_220924\\0.파이썬의기초문법\\10_클래스..ipynb 셀 6\u001b[0m in \u001b[0;36m<cell line: 18>\u001b[1;34m()\u001b[0m\n\u001b[0;32m     <a href='vscode-notebook-cell:/d%3A/Python_Study/test_220924/0.%ED%8C%8C%EC%9D%B4%EC%8D%AC%EC%9D%98%EA%B8%B0%EC%B4%88%EB%AC%B8%EB%B2%95/10_%ED%81%B4%EB%9E%98%EC%8A%A4..ipynb#W5sZmlsZQ%3D%3D?line=14'>15</a>\u001b[0m fan1 \u001b[39m=\u001b[39m ElectronicFan()\n\u001b[0;32m     <a href='vscode-notebook-cell:/d%3A/Python_Study/test_220924/0.%ED%8C%8C%EC%9D%B4%EC%8D%AC%EC%9D%98%EA%B8%B0%EC%B4%88%EB%AC%B8%EB%B2%95/10_%ED%81%B4%EB%9E%98%EC%8A%A4..ipynb#W5sZmlsZQ%3D%3D?line=15'>16</a>\u001b[0m fan1\u001b[39m.\u001b[39mset_power(\u001b[39m\"\u001b[39m\u001b[39mON\u001b[39m\u001b[39m\"\u001b[39m)\n\u001b[1;32m---> <a href='vscode-notebook-cell:/d%3A/Python_Study/test_220924/0.%ED%8C%8C%EC%9D%B4%EC%8D%AC%EC%9D%98%EA%B8%B0%EC%B4%88%EB%AC%B8%EB%B2%95/10_%ED%81%B4%EB%9E%98%EC%8A%A4..ipynb#W5sZmlsZQ%3D%3D?line=17'>18</a>\u001b[0m ElectronicFan\u001b[39m.\u001b[39;49mset_power(\u001b[39m\"\u001b[39;49m\u001b[39mON\u001b[39;49m\u001b[39m\"\u001b[39;49m)\n\u001b[0;32m     <a href='vscode-notebook-cell:/d%3A/Python_Study/test_220924/0.%ED%8C%8C%EC%9D%B4%EC%8D%AC%EC%9D%98%EA%B8%B0%EC%B4%88%EB%AC%B8%EB%B2%95/10_%ED%81%B4%EB%9E%98%EC%8A%A4..ipynb#W5sZmlsZQ%3D%3D?line=19'>20</a>\u001b[0m fan1 \u001b[39m=\u001b[39m ElectronicFan()\n\u001b[0;32m     <a href='vscode-notebook-cell:/d%3A/Python_Study/test_220924/0.%ED%8C%8C%EC%9D%B4%EC%8D%AC%EC%9D%98%EA%B8%B0%EC%B4%88%EB%AC%B8%EB%B2%95/10_%ED%81%B4%EB%9E%98%EC%8A%A4..ipynb#W5sZmlsZQ%3D%3D?line=20'>21</a>\u001b[0m fan1\u001b[39m.\u001b[39mset_fanspeed(\u001b[39m\"\u001b[39m\u001b[39m5\u001b[39m\u001b[39m\"\u001b[39m)\n",
      "\u001b[1;31mTypeError\u001b[0m: set_power() missing 1 required positional argument: 'power'"
     ]
    }
   ],
   "source": [
    "\n",
    "class ElectronicFan():\n",
    "    def __init__(self):\n",
    "        self.power = \"OFF\"\n",
    "        print(self.power)\n",
    "        \n",
    "    def set_power(self,power):\n",
    "        self.power = power\n",
    "        print(\"선풍기 전원:\",power)\n",
    "        \n",
    "    def set_fanspeed(self,speed):\n",
    "        self.speed = speed\n",
    "        print(\"선풍기 팬속도:\",speed)\n",
    "\n",
    "        \n",
    "fan1 = ElectronicFan()\n",
    "fan1.set_power(\"ON\")\n",
    "\n",
    "\n",
    "\n",
    "fan1 = ElectronicFan()\n",
    "fan1.set_fanspeed(\"5\")\n",
    "\n",
    "#init : 기본값 > 전원 OFF\n",
    "#ON 들어가면?...???????????????????\n",
    "\n",
    "#생활 예제\n",
    "# 1. 선풍기 전원 ON, OFF\n",
    "# 2. 선풍기 바람 세기 강,중,약\n",
    "# 3. 회사 출근,퇴근,휴가"
   ]
  },
  {
   "cell_type": "code",
   "execution_count": 20,
   "metadata": {},
   "outputs": [
    {
     "name": "stdout",
     "output_type": "stream",
     "text": [
      "마린 1개 생산~\n",
      "메딕 5 개 생산!!!\n",
      "파이어벳 2 개 생산!!!\n"
     ]
    }
   ],
   "source": [
    "class Barracks():\n",
    "    def __init__(self):\n",
    "        self.unit = \"마린 1개 생산~\"\n",
    "        print(self.unit)\n",
    "    \n",
    "    def medic(self,unit):\n",
    "        self.unit = unit\n",
    "        print(\"메딕\",unit,\"개 생산!!!\")\n",
    "    \n",
    "    def firebet(self,unit):\n",
    "        self.unit = unit\n",
    "        print(\"파이어벳\",unit,\"개 생산!!!\")\n",
    "\n",
    "get_make = Barracks()\n",
    "get_make.medic(\"5\")\n",
    "get_make.firebet(\"2\")\n"
   ]
  },
  {
   "cell_type": "markdown",
   "metadata": {},
   "source": [
    "주변에서 볼 수 있는 물체로 Class 를 만들어 봅시다 [숙제!!!!]\n",
    "3개 해옵시다 :D\n",
    "클레스로 어떻게 구현할 수 있는지 생각해보기\n",
    "변수 / 함수 !!!\n"
   ]
  }
 ],
 "metadata": {
  "kernelspec": {
   "display_name": "Python 3.9.12 ('base')",
   "language": "python",
   "name": "python3"
  },
  "language_info": {
   "codemirror_mode": {
    "name": "ipython",
    "version": 3
   },
   "file_extension": ".py",
   "mimetype": "text/x-python",
   "name": "python",
   "nbconvert_exporter": "python",
   "pygments_lexer": "ipython3",
   "version": "3.9.12"
  },
  "orig_nbformat": 4,
  "vscode": {
   "interpreter": {
    "hash": "a077222d77dfe082b8f1dd562ad70e458ac2ab76993a0b248ab0476e32e9e8dd"
   }
  }
 },
 "nbformat": 4,
 "nbformat_minor": 2
}
