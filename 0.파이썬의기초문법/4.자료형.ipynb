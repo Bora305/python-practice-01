{
 "cells": [
  {
   "cell_type": "code",
   "execution_count": 1,
   "metadata": {},
   "outputs": [
    {
     "name": "stdout",
     "output_type": "stream",
     "text": [
      "[1, 2, 3, 4, 5]\n",
      "1\n",
      "2\n"
     ]
    }
   ],
   "source": [
    "a_list = [1,2,3,4,5]\n",
    "print(a_list)\n",
    "print(a_list[0])\n",
    "print(a_list[1])"
   ]
  },
  {
   "cell_type": "code",
   "execution_count": 2,
   "metadata": {},
   "outputs": [
    {
     "name": "stdout",
     "output_type": "stream",
     "text": [
      "[1, 2]\n",
      "[3, 4, 5]\n"
     ]
    }
   ],
   "source": [
    "a_list = [1,2,3,4,5]\n",
    "print(a_list[:2])\n",
    "print(a_list[2:])"
   ]
  },
  {
   "cell_type": "code",
   "execution_count": 3,
   "metadata": {},
   "outputs": [
    {
     "name": "stdout",
     "output_type": "stream",
     "text": [
      "[1, 2, 3]\n"
     ]
    }
   ],
   "source": [
    "b_list = []\n",
    "b_list.append(1)\n",
    "b_list.append(2)\n",
    "b_list.append(3)\n",
    "print(b_list)"
   ]
  },
  {
   "cell_type": "code",
   "execution_count": 4,
   "metadata": {},
   "outputs": [
    {
     "name": "stdout",
     "output_type": "stream",
     "text": [
      "[1, 3.14, 'hello', [1, 2, 3]]\n",
      "[3.14, 'hello']\n"
     ]
    }
   ],
   "source": [
    "c_list = [1,3.14,\"hello\",[1,2,3]]\n",
    "print(c_list)\n",
    "print(c_list[1:3])"
   ]
  },
  {
   "cell_type": "code",
   "execution_count": 6,
   "metadata": {},
   "outputs": [
    {
     "name": "stdout",
     "output_type": "stream",
     "text": [
      "[1, 2, 3, 4, 5]\n",
      "[9, 2, 3, 4, 5]\n"
     ]
    }
   ],
   "source": [
    "d_list = [1,2,3,4,5]\n",
    "print(d_list)\n",
    "d_list[0] = 9\n",
    "print(d_list)"
   ]
  },
  {
   "cell_type": "code",
   "execution_count": 7,
   "metadata": {},
   "outputs": [
    {
     "name": "stdout",
     "output_type": "stream",
     "text": [
      "(1, 2, 3, 4, 5)\n"
     ]
    }
   ],
   "source": [
    "a_tuple = (1,2,3,4,5)\n",
    "print(a_tuple)"
   ]
  },
  {
   "cell_type": "code",
   "execution_count": 8,
   "metadata": {},
   "outputs": [
    {
     "ename": "TypeError",
     "evalue": "'tuple' object does not support item assignment",
     "output_type": "error",
     "traceback": [
      "\u001b[1;31m---------------------------------------------------------------------------\u001b[0m",
      "\u001b[1;31mTypeError\u001b[0m                                 Traceback (most recent call last)",
      "\u001b[1;32md:\\Python_Study\\test_220924\\0.파이썬의기초문법\\4.자료형.ipynb 셀 7\u001b[0m in \u001b[0;36m<cell line: 3>\u001b[1;34m()\u001b[0m\n\u001b[0;32m      <a href='vscode-notebook-cell:/d%3A/Python_Study/test_220924/0.%ED%8C%8C%EC%9D%B4%EC%8D%AC%EC%9D%98%EA%B8%B0%EC%B4%88%EB%AC%B8%EB%B2%95/4.%EC%9E%90%EB%A3%8C%ED%98%95.ipynb#W6sZmlsZQ%3D%3D?line=0'>1</a>\u001b[0m \u001b[39m#Tuple(튜플)은 List 와 매우 유사하지만 변경할 수 없음\u001b[39;00m\n\u001b[0;32m      <a href='vscode-notebook-cell:/d%3A/Python_Study/test_220924/0.%ED%8C%8C%EC%9D%B4%EC%8D%AC%EC%9D%98%EA%B8%B0%EC%B4%88%EB%AC%B8%EB%B2%95/4.%EC%9E%90%EB%A3%8C%ED%98%95.ipynb#W6sZmlsZQ%3D%3D?line=1'>2</a>\u001b[0m a_tuple \u001b[39m=\u001b[39m (\u001b[39m1\u001b[39m,\u001b[39m2\u001b[39m,\u001b[39m3\u001b[39m,\u001b[39m4\u001b[39m,\u001b[39m5\u001b[39m)\n\u001b[1;32m----> <a href='vscode-notebook-cell:/d%3A/Python_Study/test_220924/0.%ED%8C%8C%EC%9D%B4%EC%8D%AC%EC%9D%98%EA%B8%B0%EC%B4%88%EB%AC%B8%EB%B2%95/4.%EC%9E%90%EB%A3%8C%ED%98%95.ipynb#W6sZmlsZQ%3D%3D?line=2'>3</a>\u001b[0m a_tuple[\u001b[39m0\u001b[39m] \u001b[39m=\u001b[39m \u001b[39m5\u001b[39m\n\u001b[0;32m      <a href='vscode-notebook-cell:/d%3A/Python_Study/test_220924/0.%ED%8C%8C%EC%9D%B4%EC%8D%AC%EC%9D%98%EA%B8%B0%EC%B4%88%EB%AC%B8%EB%B2%95/4.%EC%9E%90%EB%A3%8C%ED%98%95.ipynb#W6sZmlsZQ%3D%3D?line=3'>4</a>\u001b[0m \u001b[39mprint\u001b[39m(a_tuple)\n",
      "\u001b[1;31mTypeError\u001b[0m: 'tuple' object does not support item assignment"
     ]
    }
   ],
   "source": [
    "#Tuple(튜플)은 List 와 매우 유사하지만 변경할 수 없음\n",
    "a_tuple = (1,2,3,4,5)\n",
    "a_tuple[0] = 5\n",
    "print(a_tuple)"
   ]
  },
  {
   "cell_type": "code",
   "execution_count": 9,
   "metadata": {},
   "outputs": [
    {
     "name": "stdout",
     "output_type": "stream",
     "text": [
      "{'a': 1, 'b': 2, 'c': 3}\n",
      "1\n",
      "2\n",
      "3\n"
     ]
    }
   ],
   "source": [
    "a_dic={'a':1, 'b':2, 'c':3}\n",
    "print(a_dic)\n",
    "print(a_dic['a'])\n",
    "print(a_dic['b'])\n",
    "print(a_dic['c'])\n"
   ]
  },
  {
   "cell_type": "code",
   "execution_count": 15,
   "metadata": {},
   "outputs": [
    {
     "name": "stdout",
     "output_type": "stream",
     "text": [
      "a\n",
      "[1, 2, 3]\n",
      "3\n",
      "{1: 'a', 'b': [1, 2, 3], 'c': 3, 'd': 4}\n"
     ]
    }
   ],
   "source": [
    "b_dic = {1:'a', 'b':[1,2,3], 'c':3}\n",
    "print(b_dic[1])\n",
    "print(b_dic['b'])\n",
    "print(b_dic['c'])\n",
    "\n",
    "b_dic['d'] = 4\n",
    "print(b_dic)\n"
   ]
  },
  {
   "cell_type": "code",
   "execution_count": 16,
   "metadata": {},
   "outputs": [
    {
     "name": "stdout",
     "output_type": "stream",
     "text": [
      "{1, 2, 3, 4}\n"
     ]
    }
   ],
   "source": [
    "a_set = set([1,2,3,4])\n",
    "print(a_set)"
   ]
  },
  {
   "cell_type": "code",
   "execution_count": 17,
   "metadata": {},
   "outputs": [
    {
     "name": "stdout",
     "output_type": "stream",
     "text": [
      "{1, 2, 3, 4, 5, 6}\n"
     ]
    }
   ],
   "source": [
    "b_set = set([1,1,2,2,3,3,4,5,6])\n",
    "print(b_set)"
   ]
  },
  {
   "cell_type": "code",
   "execution_count": 23,
   "metadata": {},
   "outputs": [
    {
     "name": "stdout",
     "output_type": "stream",
     "text": [
      "{'4', 't', 'p', 's', 'o', 'h', 'y', '0', 'n'}\n"
     ]
    }
   ],
   "source": [
    "c_set = set(\"python04s\")\n",
    "print(c_set)"
   ]
  },
  {
   "cell_type": "code",
   "execution_count": 27,
   "metadata": {},
   "outputs": [
    {
     "name": "stdout",
     "output_type": "stream",
     "text": [
      "{'python04s'}\n"
     ]
    }
   ],
   "source": [
    "d_set = set([\"python04s\"])\n",
    "print(d_set)"
   ]
  }
 ],
 "metadata": {
  "kernelspec": {
   "display_name": "Python 3.9.12 ('base')",
   "language": "python",
   "name": "python3"
  },
  "language_info": {
   "codemirror_mode": {
    "name": "ipython",
    "version": 3
   },
   "file_extension": ".py",
   "mimetype": "text/x-python",
   "name": "python",
   "nbconvert_exporter": "python",
   "pygments_lexer": "ipython3",
   "version": "3.9.12"
  },
  "orig_nbformat": 4,
  "vscode": {
   "interpreter": {
    "hash": "a077222d77dfe082b8f1dd562ad70e458ac2ab76993a0b248ab0476e32e9e8dd"
   }
  }
 },
 "nbformat": 4,
 "nbformat_minor": 2
}
