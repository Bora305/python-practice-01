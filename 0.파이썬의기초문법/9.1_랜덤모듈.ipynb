{
 "cells": [
  {
   "cell_type": "code",
   "execution_count": 58,
   "metadata": {},
   "outputs": [
    {
     "name": "stdout",
     "output_type": "stream",
     "text": [
      "0.4598480163292068\n"
     ]
    }
   ],
   "source": [
    "import random\n",
    "print(random.random())"
   ]
  },
  {
   "cell_type": "code",
   "execution_count": 11,
   "metadata": {},
   "outputs": [
    {
     "name": "stdout",
     "output_type": "stream",
     "text": [
      "4\n"
     ]
    }
   ],
   "source": [
    "\n",
    "import random\n",
    "print(random.randrange(1,7))"
   ]
  },
  {
   "cell_type": "code",
   "execution_count": 65,
   "metadata": {},
   "outputs": [
    {
     "name": "stdout",
     "output_type": "stream",
     "text": [
      "1\n"
     ]
    }
   ],
   "source": [
    "import random\n",
    "print(random.randrange(1,4))"
   ]
  },
  {
   "cell_type": "code",
   "execution_count": null,
   "metadata": {},
   "outputs": [],
   "source": [
    "쌤인원 15명을 가지고 누가 커피를 살지 정하는 함수를 만들어봐\n",
    "제약 : 검색하지 말고, 여태까지 작성했던 코드를 응용해서 만들어 볼 것\n"
   ]
  },
  {
   "cell_type": "code",
   "execution_count": 144,
   "metadata": {},
   "outputs": [
    {
     "name": "stdout",
     "output_type": "stream",
     "text": [
      "걸리면 좆되는 가위바위보 15인용 입니다. 5명의 이름을 입력해 주세요!\n",
      "결과: 1 번\n",
      "▼▼▼▼▼ 당첨자 ▼▼▼▼▼\n",
      "----- 변형우 -----\n",
      "▲▲▲▲▲ 당첨자 ▲▲▲▲▲\n"
     ]
    }
   ],
   "source": [
    "print(\"걸리면 좆되는 커피내기 게임기(5인용)!!! 5명의 이름을 입력해 주세요!\")\n",
    "name1 = input(\"1번 이름 입력\")\n",
    "name2 = input(\"2번 이름 입력\")\n",
    "name3 = input(\"3번 이름 입력\")\n",
    "name4 = input(\"4번 이름 입력\")\n",
    "name5 = input(\"5번 이름 입력\")\n",
    "#name6 = input(\"6번 이름 입력\")\n",
    "#name7 = input(\"7번 이름 입력\")\n",
    "#name8 = input(\"8번 이름 입력\")\n",
    "#name9 = input(\"9번 이름 입력\")\n",
    "#name10 = input(\"10번 이름 입력\")\n",
    "#name11 = input(\"11번 이름 입력\")\n",
    "#name12 = input(\"12번 이름 입력\")\n",
    "#name13 = input(\"13번 이름 입력\")\n",
    "#name14 = input(\"14번 이름 입력\")\n",
    "#name15 = input(\"15번 이름 입력\")\n",
    "\n",
    "import random\n",
    "A = random.randrange(1,6)\n",
    "print(\"결과:\",A,\"번\")\n",
    "    \n",
    "    ## 어떻게 해야 random 으로 돌린 숫자를 반환해서 어딘가에 넣을 수 있는걸까???\n",
    "\n",
    "print(\"▼▼▼▼▼ 당첨자 ▼▼▼▼▼\")\n",
    "\n",
    "if A == 1:\n",
    "    print(\"-----\",name1,\"-----\")\n",
    "if A == 2:\n",
    "    print(\"-----\",name2,\"-----\")\n",
    "if A == 3:\n",
    "    print(\"-----\",name3,\"-----\")\n",
    "if A == 4:\n",
    "    print(\"-----\",name4,\"-----\")\n",
    "if A == 5:\n",
    "    print(\"-----\",name5,\"-----\")\n",
    "print(\"▲▲▲▲▲ 당첨자 ▲▲▲▲▲\")\n",
    "\n"
   ]
  },
  {
   "cell_type": "code",
   "execution_count": 156,
   "metadata": {},
   "outputs": [
    {
     "ename": "SyntaxError",
     "evalue": "invalid syntax (2503081653.py, line 11)",
     "output_type": "error",
     "traceback": [
      "\u001b[1;36m  Input \u001b[1;32mIn [156]\u001b[1;36m\u001b[0m\n\u001b[1;33m    if A = i:\u001b[0m\n\u001b[1;37m         ^\u001b[0m\n\u001b[1;31mSyntaxError\u001b[0m\u001b[1;31m:\u001b[0m invalid syntax\n"
     ]
    }
   ],
   "source": [
    "input_game_number = int(input(\"참여할 인원을 입력해 주세요 2~5명\"))\n",
    "gn=(input_game_number)\n",
    "for i in range(gn):\n",
    "    i=i+1\n",
    "    print(i)\n",
    "    \n",
    "while\n",
    "    \n",
    "import random\n",
    "A = random.randrange(1,6)\n",
    "print(\"결과:\",A,\"번\")\n",
    "\n",
    "if A = i:\n",
    "    print(A)\n",
    "    \n",
    "\n",
    "\n",
    "\"\"\"\n",
    "import random\n",
    "A = random.randrange(1,6)\n",
    "print(\"결과:\",A,\"번\")\n",
    "    \n",
    "    ## 어떻게 해야 random 으로 돌린 숫자를 반환해서 어딘가에 넣을 수 있는걸까???\n",
    "\n",
    "print(\"▼▼▼▼▼ 당첨자 ▼▼▼▼▼\")\n",
    "\n",
    "if A == 1:\n",
    "    print(\"-----\",name1,\"-----\")\n",
    "if A == 2:\n",
    "    print(\"-----\",name2,\"-----\")\n",
    "if A == 3:\n",
    "    print(\"-----\",name3,\"-----\")\n",
    "if A == 4:\n",
    "    print(\"-----\",name4,\"-----\")\n",
    "if A == 5:\n",
    "    print(\"-----\",name5,\"-----\")\n",
    "print(\"▲▲▲▲▲ 당첨자 ▲▲▲▲▲\")\"\"\"\n"
   ]
  },
  {
   "cell_type": "code",
   "execution_count": 129,
   "metadata": {},
   "outputs": [
    {
     "name": "stdout",
     "output_type": "stream",
     "text": [
      "2\n"
     ]
    }
   ],
   "source": [
    "\n",
    "    import random\n",
    "    A = random.randrange(1,4)\n",
    "    print(A)"
   ]
  },
  {
   "cell_type": "code",
   "execution_count": 99,
   "metadata": {},
   "outputs": [
    {
     "name": "stdout",
     "output_type": "stream",
     "text": [
      "걸리면 좆되는 가위바위보 15인용 입니다.\n",
      "['김종찬']\n"
     ]
    }
   ],
   "source": [
    "print(\"걸리면 좆되는 가위바위보 15인용 입니다.\")\n",
    "name1 = input(\"1번 이름 입력\")\n",
    "name2 = input(\"2번 이름 입력\")\n",
    "name3 = input(\"3번 이름 입력\")\n",
    "name4 = input(\"4번 이름 입력\")\n",
    "name5 = input(\"5번 이름 입력\")\n",
    "#name6 = input(\"6번 이름 입력\")\n",
    "#name7 = input(\"7번 이름 입력\")\n",
    "#name8 = input(\"8번 이름 입력\")\n",
    "#name9 = input(\"9번 이름 입력\")\n",
    "#name10 = input(\"10번 이름 입력\")\n",
    "#name11 = input(\"11번 이름 입력\")\n",
    "#name12 = input(\"12번 이름 입력\")\n",
    "#name13 = input(\"13번 이름 입력\")\n",
    "#name14 = input(\"14번 이름 입력\")\n",
    "#name15 = input(\"15번 이름 입력\")\n",
    "name_list=[name1,name2,name3,name4,name5]\n",
    "\n",
    "import random\n",
    "print(random.sample(name_list,1))\n",
    "\n"
   ]
  }
 ],
 "metadata": {
  "kernelspec": {
   "display_name": "Python 3.9.12 ('base')",
   "language": "python",
   "name": "python3"
  },
  "language_info": {
   "codemirror_mode": {
    "name": "ipython",
    "version": 3
   },
   "file_extension": ".py",
   "mimetype": "text/x-python",
   "name": "python",
   "nbconvert_exporter": "python",
   "pygments_lexer": "ipython3",
   "version": "3.9.12"
  },
  "orig_nbformat": 4,
  "vscode": {
   "interpreter": {
    "hash": "a077222d77dfe082b8f1dd562ad70e458ac2ab76993a0b248ab0476e32e9e8dd"
   }
  }
 },
 "nbformat": 4,
 "nbformat_minor": 2
}
