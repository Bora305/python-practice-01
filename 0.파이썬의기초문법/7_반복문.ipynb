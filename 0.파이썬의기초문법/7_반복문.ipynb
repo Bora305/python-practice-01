{
 "cells": [
  {
   "cell_type": "code",
   "execution_count": 1,
   "metadata": {},
   "outputs": [
    {
     "name": "stdout",
     "output_type": "stream",
     "text": [
      "0\n",
      "1\n",
      "2\n",
      "3\n",
      "4\n",
      "5\n",
      "6\n"
     ]
    }
   ],
   "source": [
    "for i in range(7):\n",
    "    print(i)"
   ]
  },
  {
   "cell_type": "code",
   "execution_count": 11,
   "metadata": {},
   "outputs": [
    {
     "name": "stdout",
     "output_type": "stream",
     "text": [
      "5\n",
      "6\n",
      "7\n",
      "8\n",
      "9\n",
      "\n",
      "\n",
      "5\n",
      "7\n",
      "9\n",
      "\n",
      "\n",
      "5\n",
      "8\n",
      "\n",
      "\n"
     ]
    }
   ],
   "source": [
    "for i in range (1, 4) :\n",
    "    for j in range(5, 10, i): # 5시작, 종료조건 10\n",
    "        print(j)\n",
    "    print(\"\\n\")\n"
   ]
  },
  {
   "cell_type": "code",
   "execution_count": 4,
   "metadata": {},
   "outputs": [
    {
     "name": "stdout",
     "output_type": "stream",
     "text": [
      "10\n",
      "8\n",
      "6\n"
     ]
    }
   ],
   "source": [
    "for i in range(10, 5, -2): #10시작, 종료조건은 5\n",
    "    print(i)"
   ]
  },
  {
   "cell_type": "code",
   "execution_count": 12,
   "metadata": {},
   "outputs": [
    {
     "name": "stdout",
     "output_type": "stream",
     "text": [
      "1\n",
      "2\n",
      "3\n",
      "4\n",
      "5\n",
      "안녕\n",
      "하세요\n"
     ]
    }
   ],
   "source": [
    "a_list = [1,2,3,4,5,\"안녕\",\"하세요\"]\n",
    "for i in a_list:\n",
    "    print(i)"
   ]
  },
  {
   "cell_type": "code",
   "execution_count": 15,
   "metadata": {},
   "outputs": [
    {
     "name": "stdout",
     "output_type": "stream",
     "text": [
      "h\n",
      "e\n",
      "l\n",
      "l\n",
      "o\n",
      " \n",
      "p\n",
      "y\n",
      "t\n",
      "h\n",
      "o\n",
      "n\n"
     ]
    }
   ],
   "source": [
    "a_str = \"hello python\"\n",
    "for i in a_str:\n",
    "    print(i)"
   ]
  },
  {
   "cell_type": "code",
   "execution_count": 22,
   "metadata": {},
   "outputs": [
    {
     "name": "stdout",
     "output_type": "stream",
     "text": [
      "i= 0   k= 홍길동\n",
      "i= 1   k= 장다인\n",
      "i= 2   k= 김철수\n"
     ]
    }
   ],
   "source": [
    "name_list = [\"홍길동\",\"장다인\",\"김철수\"]\n",
    "age_list = [500,5,12]\n",
    "for i,k in enumerate(name_list):\n",
    "    print(\"i=\",i,end='   ')\n",
    "    print(\"k=\",k)"
   ]
  },
  {
   "cell_type": "code",
   "execution_count": 23,
   "metadata": {},
   "outputs": [
    {
     "name": "stdout",
     "output_type": "stream",
     "text": [
      "홍길동  500\n",
      "장다인  5\n",
      "김철수  12\n",
      "홍길동  500\n",
      "장다인  5\n",
      "김철수  12\n"
     ]
    }
   ],
   "source": [
    "name_list = [\"홍길동\",\"장다인\",\"김철수\"]\n",
    "age_list = [500,5,12]\n",
    "for i,k in enumerate(name_list):\n",
    "    print(k, end='  ')\n",
    "    print(age_list[i])\n",
    "for i,k in enumerate(name_list):\n",
    "    print(name_list[i],end='  ')\n",
    "    print(age_list[i])"
   ]
  },
  {
   "cell_type": "code",
   "execution_count": 32,
   "metadata": {},
   "outputs": [
    {
     "name": "stdout",
     "output_type": "stream",
     "text": [
      "홍길동 500\n",
      "3\n",
      "장다인 5\n",
      "3\n",
      "김철수 12\n",
      "3\n"
     ]
    }
   ],
   "source": [
    "name_list = [\"홍길동\",\"장다인\",\"김철수\"]\n",
    "age_list =[500,5,12]\n",
    "for i in range(len(name_list)):\n",
    "    print(name_list[i],end=' ')\n",
    "    print(age_list[i])\n",
    "    print(len(name_list))"
   ]
  },
  {
   "cell_type": "code",
   "execution_count": 36,
   "metadata": {},
   "outputs": [
    {
     "name": "stdout",
     "output_type": "stream",
     "text": [
      "[0, 1, 2, 3, 4, 5, 6, 7, 8, 9]\n",
      "[0, 1, 2, 3, 4, 5, 6, 7, 8, 9]\n"
     ]
    }
   ],
   "source": [
    "test_list=[i for i in range(10)]\n",
    "print(test_list)\n",
    "\n",
    "test2_list = []\n",
    "for i in range(10):\n",
    "    test2_list.append(i)\n",
    "print(test2_list)\n"
   ]
  },
  {
   "cell_type": "code",
   "execution_count": 37,
   "metadata": {},
   "outputs": [
    {
     "name": "stdout",
     "output_type": "stream",
     "text": [
      "[0, 5, 10, 15, 20, 25, 30, 35, 40, 45]\n",
      "[0, 0, 0, 0, 0, 0, 0, 0, 0, 0]\n"
     ]
    }
   ],
   "source": [
    "test_list = [i * 5 for i in range(10)]\n",
    "print(test_list)\n",
    "test2_list = [0 for i in range(10)]\n",
    "print(test2_list)"
   ]
  },
  {
   "cell_type": "code",
   "execution_count": 39,
   "metadata": {},
   "outputs": [
    {
     "name": "stdout",
     "output_type": "stream",
     "text": [
      "0\n",
      "1\n",
      "2\n",
      "3\n",
      "4\n"
     ]
    }
   ],
   "source": [
    "a = 0\n",
    "while a < 5:\n",
    "    print(a)\n",
    "    a = a + 1"
   ]
  },
  {
   "cell_type": "code",
   "execution_count": 41,
   "metadata": {},
   "outputs": [
    {
     "name": "stdout",
     "output_type": "stream",
     "text": [
      "0\n",
      "1\n",
      "2\n",
      "3\n",
      "4\n"
     ]
    }
   ],
   "source": [
    "a = 0\n",
    "while True:\n",
    "    print(a)\n",
    "    a = a + 1\n",
    "    if a >= 5:\n",
    "        break"
   ]
  }
 ],
 "metadata": {
  "kernelspec": {
   "display_name": "Python 3.9.12 ('base')",
   "language": "python",
   "name": "python3"
  },
  "language_info": {
   "codemirror_mode": {
    "name": "ipython",
    "version": 3
   },
   "file_extension": ".py",
   "mimetype": "text/x-python",
   "name": "python",
   "nbconvert_exporter": "python",
   "pygments_lexer": "ipython3",
   "version": "3.9.12"
  },
  "orig_nbformat": 4,
  "vscode": {
   "interpreter": {
    "hash": "a077222d77dfe082b8f1dd562ad70e458ac2ab76993a0b248ab0476e32e9e8dd"
   }
  }
 },
 "nbformat": 4,
 "nbformat_minor": 2
}
