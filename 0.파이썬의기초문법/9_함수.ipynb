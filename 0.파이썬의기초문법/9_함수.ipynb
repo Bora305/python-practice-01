{
 "cells": [
  {
   "cell_type": "code",
   "execution_count": 26,
   "metadata": {},
   "outputs": [
    {
     "name": "stdout",
     "output_type": "stream",
     "text": [
      "1\n"
     ]
    }
   ],
   "source": [
    "def validateInt(a):\n",
    "    if type(a) is int:\n",
    "        return a\n",
    "    elif type(a) is  str:\n",
    "        try:\n",
    "            return int(a)\n",
    "        except Exception as e:\n",
    "            print(e)\n",
    "            return None\n",
    "    return None\n",
    "\n",
    "def funcAdd(a,b):\n",
    "    c = validateInt(a)\n",
    "    d = validateInt(b)\n",
    "    if c is None or d is None:\n",
    "        return None\n",
    "    return c+d\n",
    "z = funcAdd(\"1\",\"0\")\n",
    "print(z)"
   ]
  },
  {
   "cell_type": "code",
   "execution_count": 2,
   "metadata": {},
   "outputs": [
    {
     "name": "stdout",
     "output_type": "stream",
     "text": [
      "6\n"
     ]
    },
    {
     "ename": "NameError",
     "evalue": "name 'd' is not defined",
     "output_type": "error",
     "traceback": [
      "\u001b[1;31m---------------------------------------------------------------------------\u001b[0m",
      "\u001b[1;31mNameError\u001b[0m                                 Traceback (most recent call last)",
      "\u001b[1;32md:\\Python_Study\\test_220924\\0.파이썬의기초문법\\9_함수.ipynb 셀 2\u001b[0m in \u001b[0;36m<cell line: 8>\u001b[1;34m()\u001b[0m\n\u001b[0;32m      <a href='vscode-notebook-cell:/d%3A/Python_Study/test_220924/0.%ED%8C%8C%EC%9D%B4%EC%8D%AC%EC%9D%98%EA%B8%B0%EC%B4%88%EB%AC%B8%EB%B2%95/9_%ED%95%A8%EC%88%98.ipynb#W2sZmlsZQ%3D%3D?line=5'>6</a>\u001b[0m c,_ \u001b[39m=\u001b[39m funAddMux(\u001b[39m1\u001b[39m,\u001b[39m5\u001b[39m)\n\u001b[0;32m      <a href='vscode-notebook-cell:/d%3A/Python_Study/test_220924/0.%ED%8C%8C%EC%9D%B4%EC%8D%AC%EC%9D%98%EA%B8%B0%EC%B4%88%EB%AC%B8%EB%B2%95/9_%ED%95%A8%EC%88%98.ipynb#W2sZmlsZQ%3D%3D?line=6'>7</a>\u001b[0m \u001b[39mprint\u001b[39m(c)\n\u001b[1;32m----> <a href='vscode-notebook-cell:/d%3A/Python_Study/test_220924/0.%ED%8C%8C%EC%9D%B4%EC%8D%AC%EC%9D%98%EA%B8%B0%EC%B4%88%EB%AC%B8%EB%B2%95/9_%ED%95%A8%EC%88%98.ipynb#W2sZmlsZQ%3D%3D?line=7'>8</a>\u001b[0m \u001b[39mprint\u001b[39m(d)\n",
      "\u001b[1;31mNameError\u001b[0m: name 'd' is not defined"
     ]
    }
   ],
   "source": [
    "def funAddMux(a,b):\n",
    "    add = a+b\n",
    "    mux = a*b\n",
    "    return add,mux\n",
    "\n",
    "c,_ = funAddMux(1,5)\n",
    "print(c)\n",
    "print(d)"
   ]
  },
  {
   "cell_type": "code",
   "execution_count": 6,
   "metadata": {},
   "outputs": [
    {
     "name": "stdout",
     "output_type": "stream",
     "text": [
      "35\n"
     ]
    }
   ],
   "source": [
    "from tkinter import Y\n",
    "\n",
    "\n",
    "def f1(x):\n",
    "    a = 3\n",
    "    b = 5\n",
    "    y = a*x+b\n",
    "    return y\n",
    "c = f1(10)\n",
    "print(c)"
   ]
  },
  {
   "cell_type": "code",
   "execution_count": 5,
   "metadata": {},
   "outputs": [
    {
     "name": "stdout",
     "output_type": "stream",
     "text": [
      "35\n",
      "None\n"
     ]
    }
   ],
   "source": [
    "def f1(x):\n",
    "    a = 3\n",
    "    b = 5\n",
    "    y = a*x+b\n",
    "    print(y)\n",
    "c = f1(10)\n",
    "\n",
    "print(c)"
   ]
  }
 ],
 "metadata": {
  "kernelspec": {
   "display_name": "Python 3.9.12 ('base')",
   "language": "python",
   "name": "python3"
  },
  "language_info": {
   "codemirror_mode": {
    "name": "ipython",
    "version": 3
   },
   "file_extension": ".py",
   "mimetype": "text/x-python",
   "name": "python",
   "nbconvert_exporter": "python",
   "pygments_lexer": "ipython3",
   "version": "3.9.12"
  },
  "orig_nbformat": 4,
  "vscode": {
   "interpreter": {
    "hash": "a077222d77dfe082b8f1dd562ad70e458ac2ab76993a0b248ab0476e32e9e8dd"
   }
  }
 },
 "nbformat": 4,
 "nbformat_minor": 2
}
